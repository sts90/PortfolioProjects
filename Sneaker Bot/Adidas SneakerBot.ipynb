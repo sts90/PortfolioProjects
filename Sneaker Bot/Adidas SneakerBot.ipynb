{
 "cells": [
  {
   "cell_type": "markdown",
   "id": "3ff23514",
   "metadata": {},
   "source": [
    "# Adidas SneakerBot\n",
    "\n",
    "This bot will identify available sizes for specific sneaker models on the Adidas website. \n",
    "\n",
    "## 1. Importing\n",
    "\n",
    "BeautifulSoup will allow us to scrape through the HTML source of the Adidas website to locate specific items. \n",
    "\n",
    "Importing the webdriver from selenium allows us to display the website we are scraping in a web browser (in this case, Firefox). If you're using a different browser, please modify the browser assignment 'webdriver.Firefox()' by replacing 'Firefox' with the browser of your choice.\n",
    "\n",
    "The time tool is imported to allow the page to fully load before scraping is initiated."
   ]
  },
  {
   "cell_type": "code",
   "execution_count": 2,
   "id": "9368ad15",
   "metadata": {},
   "outputs": [],
   "source": [
    "from selenium import webdriver\n",
    "from bs4 import BeautifulSoup\n",
    "import time"
   ]
  },
  {
   "cell_type": "markdown",
   "id": "28843591",
   "metadata": {},
   "source": [
    "## 2. Programming\n",
    "\n",
    "Running the cluster below will display the available sizes for Adidas Samba OG Shoes, model number B75807. The browser will open, scrape, and then automatically close. Results will display in this notebook.\n",
    "\n",
    "To see results for other Adidas models, replace the shoe name and model within the \"getSizes\" function at the bottom of the cluster.\n",
    "\n",
    "Notes have been added throughout the code cluster with relevant information about specific lines."
   ]
  },
  {
   "cell_type": "code",
   "execution_count": 4,
   "id": "a8e40bcc",
   "metadata": {},
   "outputs": [
    {
     "name": "stdout",
     "output_type": "stream",
     "text": [
      "5\n",
      "7\n",
      "7.5\n",
      "8\n",
      "8.5\n",
      "9\n",
      "9.5\n",
      "10\n",
      "10.5\n",
      "11\n",
      "11.5\n",
      "12\n",
      "13\n"
     ]
    }
   ],
   "source": [
    "browser = webdriver.Firefox() # replace Firefox with browser of your choice\n",
    "\n",
    "def getSizes(name, model):\n",
    "    browser.get(\"https://www.adidas.com/us/\"+name+\"/\"+model+\".html\")\n",
    "    time.sleep(5) # allows page 5 seconds to fully load before scraping\n",
    "    html = browser.page_source\n",
    "    soup = BeautifulSoup(html, 'html.parser')\n",
    "    x=soup.find_all(\"button\", class_=\"gl-label size___2lbev\")\n",
    "    for a in x:\n",
    "        print(str(a).split('<span>')[1].split('</span')[0]) # splitting off <span></span> from sizes\n",
    "    browser.quit() # closes browser after scraping\n",
    "        \n",
    "getSizes('forum-low-cl-shoes','ID1719') # populate (name, model) with shoe of choice"
   ]
  },
  {
   "cell_type": "code",
   "execution_count": null,
   "id": "ced16125",
   "metadata": {},
   "outputs": [],
   "source": []
  }
 ],
 "metadata": {
  "kernelspec": {
   "display_name": "Python 3 (ipykernel)",
   "language": "python",
   "name": "python3"
  },
  "language_info": {
   "codemirror_mode": {
    "name": "ipython",
    "version": 3
   },
   "file_extension": ".py",
   "mimetype": "text/x-python",
   "name": "python",
   "nbconvert_exporter": "python",
   "pygments_lexer": "ipython3",
   "version": "3.9.13"
  }
 },
 "nbformat": 4,
 "nbformat_minor": 5
}
