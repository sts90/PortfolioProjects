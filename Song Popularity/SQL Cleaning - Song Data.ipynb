{
    "metadata": {
        "kernelspec": {
            "name": "SQL",
            "display_name": "SQL",
            "language": "sql"
        },
        "language_info": {
            "name": "sql",
            "version": ""
        }
    },
    "nbformat_minor": 2,
    "nbformat": 4,
    "cells": [
        {
            "cell_type": "markdown",
            "source": [
                "# Summary\n",
                "\n",
                "The main focus of this project is to demonstrate technical proficiency is SQL. We'll be analyzing various Spotify datasets related to artists, albums, and songs to determine which qualitative and quantitative characteristics contribute to a song's popularity. These queries will be used in a subsequent project which will be completed in Tableau and saved to my portfolio."
            ],
            "metadata": {
                "azdata_cell_guid": "2ee7c6c5-9fab-4e73-a40e-6d9264256832"
            },
            "attachments": {}
        },
        {
            "cell_type": "markdown",
            "source": [
                "# Ask\n",
                "\n",
                "## 1\\. Business Task\n",
                "\n",
                "Identify how various characteristics correlate to a song's popularity score to recommend the formula for a popular song."
            ],
            "metadata": {
                "azdata_cell_guid": "45c83198-b99f-44bf-b1b3-5c5a1302b0e0"
            },
            "attachments": {}
        },
        {
            "cell_type": "markdown",
            "source": [
                "# Prepare\n",
                "\n",
                "## 1\\. Dataset Overview\n",
                "\n",
                "The data source used in this case study was **'Spotify and Genius Track Dataset'** on Kaggle. This dataset was made available by Kaggler Saurabh Shahane.\n",
                "\n",
                "## 2\\. Privacy\n",
                "\n",
                "Verifying the metadata of our dataset we can confirm it is open-source. The owner has dedicated the work to the public domain by waiving all of his or her rights to the work worldwide under copyright law, including all related and neighboring rights, to the extent allowed by law. You can copy, modify, distribute and perform the work, even for commercial purposes, all without asking permission.\n",
                "\n",
                "## 3\\. Dataset Information\n",
                "\n",
                "Datasets were curated from Spotify and Genius' respective APIs. The datasets contain varying amounts of information about song, album, and artist features such as but not limited to \"liveness\", \"danceability\", BPM, and popularity. The dataset does not contain information about songs, albums, or artists after 2019.\n",
                "\n",
                "## 4\\. Data Organization\n",
                "\n",
                "Included in the original dataset are 5 seperate datasets divided into 2 folders. The first folder contains 3 datasets - 1 contains both qualitative and quantitative information about artists, 1 about albums, and 1 about songs. The second folder contains 2 datasets - 1 involving lyric data and 1 involving Spotify metrics. For the purpose of this analysis, we will only be working with the first 3 datasets (referred to in this analysis as **artists**, **albums**, and **trackz**).\n",
                "\n",
                "| Table Name | Type | Description |\n",
                "| :-- | :-: | --: |\n",
                "| artists | CSV | artist\\_popularity, followers, genres, id, name, track\\_id, track\\_name\\_prev, type |\n",
                "| albums | CSV | album\\_type, artist\\_id, available\\_markets, external\\_urls, href, id, images, name, release\\_date |\n",
                "| trackz | CSV | acousticness, album\\_id, analysis\\_url, artists\\_id, available\\_markets, country, danceability, disc\\_number, duration\\_ms |\n",
                "\n",
                "## 5\\. Data Credibility\n",
                "\n",
                "Certain attributes were either ambiguous or contained irreconcilable inconsistencies and/or errors and therefore were excluded from our analysis. This included but was not limited to attributes such as **available\\_markets**, **country**, **disc\\_number**, and others.\n",
                "\n",
                "  \n",
                "\n",
                "A limited number of assumptions were made for the sake of consistency throughout this analysis. These assumptions are documented throughout as they occur."
            ],
            "metadata": {
                "azdata_cell_guid": "638c9a69-13e0-4c86-a1e7-9c75d4507c2b"
            },
            "attachments": {}
        },
        {
            "cell_type": "markdown",
            "source": [
                "# Process\n",
                "\n",
                "## 1\\. Importing Datasets into Azure Data Studio 2\n",
                "\n",
                "Datasets were imported into Azure Data Studio 2 to clean and analyze. This process was accomplished through the Import Wizard Azure Data Studio. Tables were assigned the names dbo.artists (for artists), dbo.albums (for albums), and dbo.trackz (for songs).\n",
                "\n",
                "After importing, a query was run to preview the top 5 rows of each table so we could get an idea of what type of data we're working with and get an idea of any commonalities or discrepencies that might exist. It looks like each track contains a unique ID as does each album and artist."
            ],
            "metadata": {
                "azdata_cell_guid": "f5c8e099-acd1-4bef-9bac-1431d33e68c0",
                "language": ""
            },
            "attachments": {}
        },
        {
            "cell_type": "code",
            "source": [
                "/* Viewing 3 tables before joining */\n",
                "\n",
                "SELECT TOP 5\n",
                "    *\n",
                "FROM MusicProj..albums\n",
                "\n",
                "SELECT TOP 5\n",
                "    *\n",
                "FROM\n",
                "    MusicProj..artists\n",
                "\n",
                "SELECT TOP 5\n",
                "    *\n",
                "FROM\n",
                "    MusicProj..trackz"
            ],
            "metadata": {
                "azdata_cell_guid": "ac1971a7-3660-44fe-bfb0-1fa2d0a91f82",
                "language": "sql",
                "tags": []
            },
            "outputs": [],
            "execution_count": null
        },
        {
            "cell_type": "markdown",
            "source": [
                "## 2\\. Cleaning and Manipulating Our Data\n",
                "\n",
                "### **2.1 Standardizing Artist ID Format**\n",
                "\n",
                "**(SUBSTR, LEN, LEFT)**\n",
                "\n",
                "One thing we notice when examining our tables is that, unlike the other tables, the artist\\_id attribute in the trackz table is formatted in between sets of brackets and single quotes. To standardize the artist\\_id between the table, we'll remove the single quotes and brackets were removed using the SUBSTRING and LEN functions. \n",
                "\n",
                "Additionally, many records included multiple values in the artist\\_id column. For the sake of this analysis, it's assumed that the first artist\\_id listed is the primary album artist while the remaining values are \"featured\" artists. To ensure that all records only aligned to 1 artist, the LEFT function is used to keep only the primary artist\\_id."
            ],
            "metadata": {
                "azdata_cell_guid": "4aeab658-3b7a-4417-b3a8-91f155cdd581"
            },
            "attachments": {}
        },
        {
            "cell_type": "code",
            "source": [
                "/* Using SUBSTRING, LEN, and LEFT to remove extra characters and multiple artist IDs */\n",
                "\n",
                "-- Removing first 2 characters using SUBSTRING and LEN\n",
                "\n",
                "SELECT\n",
                "    SUBSTRING(\n",
                "        \"artists_id\",3,LEN(\"artists_id\"))\n",
                "FROM \n",
                "    MusicProj..trackz\n",
                "\n",
                "UPDATE \n",
                "    MusicProj..trackz\n",
                "SET \n",
                "    artists_id = \n",
                "    SUBSTRING(\n",
                "        \"artists_id\",3,LEN(\"artists_id\"))\n",
                "\n",
                "-- Keeping only the primary artist ID using LEFT function\n",
                "\n",
                "SELECT \n",
                "    LEFT(artists_id, 22)\n",
                "FROM \n",
                "    MusicProj..trackz\n",
                "\n",
                "UPDATE \n",
                "    MusicProj..trackz\n",
                "SET \n",
                "    artists_id = LEFT(artists_id, 22)"
            ],
            "metadata": {
                "azdata_cell_guid": "826f88e9-5d95-406f-936f-6f793ade6b89",
                "language": "sql",
                "tags": []
            },
            "outputs": [],
            "execution_count": null
        },
        {
            "cell_type": "markdown",
            "source": [
                "### **2.2.1 Removing Duplicate Records**\n",
                "\n",
                "**(CTE, PARTITION BY, ORDER BY, DELETE)**\n",
                "\n",
                "Since certain tracks can appear on multiple different albums, duplicate records need to be removed to protect the integrity of our data. \n",
                "\n",
                "It's assumed that the record with the highest value in the popularity column is the \"primary\" release version and is therefore be the record used in our sample. The lower popularity duplicate records are removed by partitioning records with the respective row counts and sorting in descending order by popularity score - all within a CTE. Any records with a row count rank higher than 1 are deleted\\*.\n",
                "\n",
                "\\*Deleted for the purpose of demonstrating knowledge"
            ],
            "metadata": {
                "language": "sql",
                "azdata_cell_guid": "e2b6eb48-8eda-4600-8521-b28a081f9d27"
            },
            "attachments": {}
        },
        {
            "cell_type": "code",
            "source": [
                "/* Using CTE and Partition By to delete duplicate track records and keep record with highest popularity score */\n",
                "\n",
                "WITH \n",
                "    DupeCTE AS(\n",
                "    SELECT *, \n",
                "    ROW_NUMBER() OVER (\n",
                "        PARTITION BY \n",
                "        duration_ms,  \n",
                "        tempo, \n",
                "        energy, \n",
                "        liveness, \n",
                "        [name] \n",
                "    ORDER BY \n",
                "        popularity DESC\n",
                "        ) row_num\n",
                "FROM MusicProj..trackz\n",
                ")\n",
                "\n",
                "DELETE \n",
                "FROM \n",
                "    DupeCTE\n",
                "WHERE \n",
                "    row_num > 1"
            ],
            "metadata": {
                "azdata_cell_guid": "00f1f4ab-2c33-4301-89ce-31af86e656ef",
                "language": "sql",
                "tags": []
            },
            "outputs": [],
            "execution_count": null
        },
        {
            "cell_type": "markdown",
            "source": [
                "### **2.2.2 Verifying No Duplicates in Remaining Tables**\n",
                "\n",
                "**(CTE, ROW\\_NUMBER, PARTITION BY)**\n",
                "\n",
                "With duplicates removed from the tracks table, we need to verify that there are no duplicate records for artists or albums on their respective tables. We do this using the same CTE process as described above. The result is 0 records with a row\\_num greater that 1 which indicates no duplicates exist."
            ],
            "metadata": {
                "azdata_cell_guid": "649225f7-e943-4422-98ca-16e60f229bd1"
            },
            "attachments": {}
        },
        {
            "cell_type": "code",
            "source": [
                "/* Verifying no duplicate artists */\n",
                "\n",
                "WITH \n",
                "    artCTE AS(\n",
                "    SELECT *, \n",
                "    ROW_NUMBER() OVER (\n",
                "        PARTITION BY \n",
                "        artists.id,\n",
                "        [name] \n",
                "    ORDER BY\n",
                "        artist_popularity\n",
                "        ) row_num\n",
                "FROM MusicProj..artists\n",
                ")\n",
                "\n",
                "SELECT *\n",
                "FROM \n",
                "    artCTE\n",
                "WHERE \n",
                "    row_num > 1\n",
                "\n",
                "/* Verifying no duplicate albums */\n",
                "\n",
                "WITH \n",
                "    albCTE AS(\n",
                "    SELECT *, \n",
                "    ROW_NUMBER() OVER (\n",
                "        PARTITION BY \n",
                "        albums.id,\n",
                "        [name] \n",
                "    ORDER BY\n",
                "        release_date\n",
                "        ) row_num\n",
                "FROM MusicProj..albums\n",
                ")\n",
                "\n",
                "SELECT *\n",
                "FROM \n",
                "    albCTE\n",
                "WHERE \n",
                "    row_num > 1"
            ],
            "metadata": {
                "azdata_cell_guid": "9d167a0e-0016-4bf2-ad7c-6d6e668c9748",
                "language": "sql",
                "tags": []
            },
            "outputs": [],
            "execution_count": null
        },
        {
            "cell_type": "markdown",
            "source": [
                "### **2.3 Standardizing Date Format (YYYY)**\n",
                "\n",
                "**(LEFT)**\n",
                "\n",
                "Certain records contain full dates while others only contained years. To standardize these records, all dates were converted to a YYYY format by using the LEFT function to select the first 4 numbers on the left of each record."
            ],
            "metadata": {
                "azdata_cell_guid": "688df704-7a8f-473b-8077-ccb96ddeaed6"
            },
            "attachments": {}
        },
        {
            "cell_type": "code",
            "source": [
                "/* Using LEFT to standardize release dates to YYYY format */\n",
                "\n",
                "UPDATE \n",
                "    MusicProj..albums\n",
                "SET \n",
                "    release_date = LEFT(release_date, 4)\n",
                ""
            ],
            "metadata": {
                "azdata_cell_guid": "28bd89a8-38e2-436e-bced-3b72dc3d99b6",
                "language": "sql",
                "tags": [
                    "hide_input"
                ]
            },
            "outputs": [],
            "execution_count": null
        },
        {
            "cell_type": "markdown",
            "source": [
                "### **2.4 Creating Table of Translated Values to Reference in JOIN**\n",
                "\n",
                "**(CREATE TABLE, INSERT INTO)**\n",
                "\n",
                "The dataset represents musical key as an integer ranging 0-11 and mode as a 1/0 boolean. \n",
                "\n",
                "In order to perform an effective analysis that our stakeholders will comprehend, these attributes need to be translated to string. \n",
                "\n",
                "Since C is the first note in the traditional western musical alphabet and said alphabet consists of 12 total notes (7 natural notes and 5 accidentals ranging for A-G), it can logically be assumed that the 0-11 range directly translates to C-B with C = 0 and B = 11.\n",
                "\n",
                "It's also noted on Spotify's API website that the 1 in the dataset represents major keys while the 0 in the dataset translates to minor. \n",
                "\n",
                "In order to translate and include these values in our analysis, two tables were created representing the direct translation. These tables will be joined and referenced in later queries."
            ],
            "metadata": {
                "azdata_cell_guid": "8f225355-3e4c-40b7-8dc8-06a3f9feec82"
            },
            "attachments": {}
        },
        {
            "cell_type": "code",
            "source": [
                "/* Using CREATE and INSERT clauses to create/populate tables to convert key and mode attributes from int to string */\n",
                "\n",
                "-- Creating tables \n",
                "\n",
                "CREATE TABLE \n",
                "    MusicProj..keystrings\n",
                "    (\n",
                "    key_num int,\n",
                "    key_let nvarchar(10)\n",
                "    )\n",
                "\n",
                "CREATE TABLE \n",
                "    MusicProj..modestring\n",
                "    (\n",
                "    mode_num int,\n",
                "    mode_let nvarchar(10)\n",
                "    )\n",
                "\n",
                "-- Inserting values\n",
                "\n",
                "INSERT INTO MusicProj..modestring\n",
                "VALUES (1,'Maj'),\n",
                "(0,'min')\n",
                "\n",
                "INSERT INTO\n",
                "    MusicProj..keystrings \n",
                "    VALUES \n",
                "    (0,'C'),\n",
                "    (1,'C#Db'),\n",
                "    (2,'D'),\n",
                "    (3,'D#Eb'),\n",
                "    (4,'E'),\n",
                "    (5,'F'),\n",
                "    (6,'F#Gb'),\n",
                "    (7,'G'),\n",
                "    (8,'G#Ab'),\n",
                "    (9,'A'),\n",
                "    (10,'A#Bb'),\n",
                "    (11,'B')\n",
                "\n",
                "-- Previewing and verifying\n",
                "\n",
                "SELECT\n",
                "    *\n",
                "FROM\n",
                "    MusicProj..keystrings\n",
                "\n",
                "SELECT\n",
                "    *\n",
                "FROM\n",
                "    MusicProj..modestring\n",
                ""
            ],
            "metadata": {
                "azdata_cell_guid": "fcece12d-9c62-49c4-b559-7bb9ab9545d3",
                "language": "sql",
                "tags": [
                    "hide_input"
                ]
            },
            "outputs": [],
            "execution_count": null
        },
        {
            "cell_type": "markdown",
            "source": [
                "### **2.5 Joining and Aliasing**\n",
                "\n",
                "**(LEFT JOIN, INNER JOIN, AS)** \n",
                "\n",
                "4 tables are joined to the trackz table to populate remaining relevant info. 2 tables are the modestring and keystrings tables that were created in the previous step for the purpose of converting our key and mode values. The other 2 tables are artists and albums which contain information such as release date, album name, and artist name that can be linked to the individual tracks."
            ],
            "metadata": {
                "azdata_cell_guid": "bc41f85a-11c5-48ae-9bb7-db28bcaea5ec"
            },
            "attachments": {}
        },
        {
            "cell_type": "code",
            "source": [
                "/* Joining and aliasing 5 tables (tracks, artists, albums, keystrings, modestring) for analysis */\n",
                "-- First 2 joins convert key and mode attributes from int to string (to be combined as full_key in next step)\n",
                "\n",
                "SELECT\n",
                "    *\n",
                "FROM\n",
                "    MusicProj..trackz tra\n",
                "    JOIN \n",
                "        MusicProj..keystrings kst\n",
                "        ON tra.[key] = kst.key_num\n",
                "    JOIN\n",
                "        MusicProj..modestring mst\n",
                "        ON tra.mode = mst.mode_num\n",
                "    LEFT JOIN\n",
                "        MusicProj..artists art\n",
                "        ON tra.artists_id = art.id\n",
                "    LEFT JOIN \n",
                "        MusicProj..albums alb\n",
                "        ON tra.album_id = alb.id"
            ],
            "metadata": {
                "azdata_cell_guid": "130783e8-448f-4a91-ba9e-eae345ca84e7",
                "language": "sql",
                "tags": [
                    "hide_input"
                ]
            },
            "outputs": [],
            "execution_count": null
        },
        {
            "cell_type": "markdown",
            "source": [
                "### **2.6 Combining 2 Columns Into 1**\n",
                "\n",
                "**(CONCAT, AVG, PARTITION BY)**\n",
                "\n",
                "Since key and mode are often combined to describe the key of a song, to simplify our analysis (and for the purpose of demonstration), the CONCAT function is used to combine both the mode value as well as the key value for each record to form a new attribute which is labeled full\\_key.\n",
                "\n",
                "Additionally, AVG operation was used to calculate both the average song and average artist popularities. These were then included as a partition for each record for easy comparison between respective artist/song popularity ratings and the average."
            ],
            "metadata": {
                "azdata_cell_guid": "36521d49-6014-46d1-96bd-f25b7835f267",
                "language": ""
            },
            "attachments": {}
        },
        {
            "cell_type": "code",
            "source": [
                "/* Using CONCAT, SELECT, WHERE, and ORDER BY clauses to combine key and mode columns and select, alias, and filter attributes from joined tables for analysis */\n",
                "\n",
                "SELECT\n",
                "    tra.name song_name,\n",
                "    tra.popularity song_pop,\n",
                "    AVG(popularity) OVER (\n",
                "        PARTITION BY album_type) \n",
                "        AS avg_song_popularity,\n",
                "    art.name artist_name,\n",
                "    artist_popularity,\n",
                "    AVG(artist_popularity) OVER (\n",
                "        PARTITION BY album_type) \n",
                "        AS avg_artist_popularity,\n",
                "    followers,\n",
                "    tempo,\n",
                "    CONCAT(\n",
                "        kst.key_let, \n",
                "        mst.mode_let\n",
                "        ) AS full_key,\n",
                "    duration_ms,\n",
                "    acousticness,\n",
                "    danceability,\n",
                "    energy,\n",
                "    liveness,\n",
                "    loudness,\n",
                "    speechiness,\n",
                "    valence,\n",
                "    alb.name album_name,\n",
                "    release_date,\n",
                "    album_type\n",
                "\n",
                "FROM\n",
                "    MusicProj..trackz tra\n",
                "    JOIN \n",
                "        MusicProj..keystrings kst\n",
                "        ON tra.[key] = kst.key_num\n",
                "    JOIN\n",
                "        MusicProj..modestring mst\n",
                "        ON tra.mode = mst.mode_num\n",
                "    LEFT JOIN\n",
                "        MusicProj..artists art\n",
                "        ON tra.artists_id = art.id\n",
                "    LEFT JOIN \n",
                "        MusicProj..albums alb\n",
                "        ON tra.album_id = alb.id\n",
                "-- Filtering to only show tracks from albums (no compilations or singles)\n",
                "WHERE\n",
                "    album_type = 'album'\n",
                "-- Sorting by highest popularity score\n",
                "ORDER BY song_pop DESC"
            ],
            "metadata": {
                "azdata_cell_guid": "3165aed5-14cc-4b24-80e3-99ac5857cc0c",
                "language": "sql",
                "tags": [
                    "hide_input"
                ]
            },
            "outputs": [],
            "execution_count": null
        },
        {
            "cell_type": "markdown",
            "source": [
                "### **2.7.1 Understanding Our Data to Identify Outliers**\n",
                "\n",
                "**(MIN, MAX, COUNT, DISTINCT)**\n",
                "\n",
                "It's important to understand the scope of our sample size to help identify outliers. In this query, we'll identify the number of years included in the data, the range of years, and the number of distinct artists, albums, and tracks. We'll do this using the MIN and MAX functions to determine the range of years and the COUNT function to determine the number of years, artists, albums, and tracks."
            ],
            "metadata": {
                "azdata_cell_guid": "378b8514-c146-445f-bfc8-acbada71e3c5"
            },
            "attachments": {}
        },
        {
            "cell_type": "code",
            "source": [
                "/* Using MIN, MAX, and COUNT functions to calculate release_date year range as well as number of distinct tracks, artists, and albums) */\n",
                "\n",
                "SELECT \n",
                "    MIN(release_date) as year_range_start, \n",
                "    MAX(release_date) as year_range_end,\n",
                "    COUNT(DISTINCT(release_date)) num_years,\n",
                "    COUNT(DISTINCT(art.id)) num_artists,\n",
                "    COUNT(DISTINCT(alb.id)) num_albums,\n",
                "    COUNT(DISTINCT(tra.id)) num_tracks\n",
                "FROM\n",
                "    MusicProj..trackz tra\n",
                "    JOIN \n",
                "        MusicProj..keystrings kst\n",
                "        ON tra.[key] = kst.key_num\n",
                "    JOIN\n",
                "        MusicProj..modestring mst\n",
                "        ON tra.mode = mst.mode_num\n",
                "    LEFT JOIN\n",
                "        MusicProj..artists art\n",
                "        ON tra.artists_id = art.id\n",
                "    LEFT JOIN \n",
                "        MusicProj..albums alb\n",
                "        ON tra.album_id = alb.id\n",
                "WHERE\n",
                "    album_type = 'album'"
            ],
            "metadata": {
                "azdata_cell_guid": "11e36d3e-bddb-45bd-a19e-b62b6e877415",
                "language": "sql",
                "tags": [
                    "hide_input"
                ]
            },
            "outputs": [],
            "execution_count": null
        },
        {
            "cell_type": "markdown",
            "source": [
                "### **2.7.2 Finding Outliers**\n",
                "\n",
                "When looking at year range, we notice that the samples starts in 1886 and ends in 2019. That range does not line up with the total number of years included in the sample (which we calculated as 85). Something's off and, given the context of the data, we suspect it's the album released in the year 1886. This hypothesis is further supported by additional research on the web which tells us that the first album ever recorded was released in 1889. \n",
                "\n",
                "Using the WHERE clause, we learn that the album listed with an 1886 release year is actually a soundtrack for a video game called in \"The Order: 1886\". A quick web search shows us that the album was actually released in 2015."
            ],
            "metadata": {
                "azdata_cell_guid": "2fadf9f6-630e-4cfe-b4e7-0fe99383e9c9"
            },
            "attachments": {}
        },
        {
            "cell_type": "code",
            "source": [
                "/* Using WHERE clause to drill down on record with release year of 1886 */\n",
                "\n",
                "SELECT\n",
                "    tra.name song_name,\n",
                "    art.name artist_name,\n",
                "    alb.name album_name,\n",
                "    alb.id,\n",
                "    release_date\n",
                "\n",
                "FROM\n",
                "    MusicProj..trackz tra\n",
                "    JOIN \n",
                "        MusicProj..keystrings kst\n",
                "        ON tra.[key] = kst.key_num\n",
                "    JOIN\n",
                "        MusicProj..modestring mst\n",
                "        ON tra.mode = mst.mode_num\n",
                "    LEFT JOIN\n",
                "        MusicProj..artists art\n",
                "        ON tra.artists_id = art.id\n",
                "    LEFT JOIN \n",
                "        MusicProj..albums alb\n",
                "        ON tra.album_id = alb.id\n",
                "WHERE\n",
                "    release_date = 1886\n",
                "\n",
                ""
            ],
            "metadata": {
                "language": "sql",
                "azdata_cell_guid": "e9b293f1-9052-467e-8a59-408dc5d0b9ec",
                "tags": [
                    "hide_input"
                ]
            },
            "outputs": [],
            "execution_count": null
        },
        {
            "cell_type": "markdown",
            "source": [
                "### **2.7.3 Correcting Outliers**\n",
                "\n",
                "Now that we understand the error and have the correct information, we need to correct it. We can do this by updating the record in the albums table with the correct year of 2015. \n",
                "\n",
                "Afterwards, we'll select the record to verify that the change was applied."
            ],
            "metadata": {
                "azdata_cell_guid": "b7cebb55-81d2-44d5-b82d-a0db27876975"
            },
            "attachments": {}
        },
        {
            "cell_type": "code",
            "source": [
                "/* Updating record to change release_date from 1886 to 2015 */\n",
                "\n",
                "UPDATE \n",
                "    MusicProj..albums\n",
                "SET \n",
                "    release_date = 2015\n",
                "WHERE \n",
                "    id = '1IamuMB8i2g2vEJKNv7NFC' AND \n",
                "    artist_id = '0kZQLbj8h2SMVZHUJSbfBQ' AND \n",
                "    [name] = 'The Order: 1886 (Video Game Soundtrack)'\n",
                "\n",
                "/* Verifying the change */\n",
                "\n",
                "SELECT \n",
                "    *\n",
                "FROM \n",
                "    MusicProj..albums\n",
                "WHERE \n",
                "    id = '1IamuMB8i2g2vEJKNv7NFC'"
            ],
            "metadata": {
                "azdata_cell_guid": "750c96c5-65ef-4674-a8eb-107444c213cf",
                "language": "sql",
                "tags": [
                    "hide_input"
                ]
            },
            "outputs": [],
            "execution_count": null
        },
        {
            "cell_type": "markdown",
            "source": [
                "### **2.7.4 Let's Make Those Calculations Again**\n",
                "\n",
                "**(MIN, MAX, COUNT, DISTINCT)**\n",
                "\n",
                "Now that we've corrected the incorrect data, let's run the query from above one more time to calculate the correct year range and number of years. \n",
                "\n",
                "The results make much more sense now. 1923-2019 is the correct range. We also calculate that the data includes 20,183 total artists with 32,203 total albums from those artists which include a grand total of 52,812 tracks."
            ],
            "metadata": {
                "language": "sql",
                "azdata_cell_guid": "cd492537-b4cb-4394-8257-09f3b62e8d28"
            },
            "attachments": {}
        },
        {
            "cell_type": "code",
            "source": [
                "/* Using MIN, MAX, and COUNT to calculate information about dataset */\n",
                "\n",
                "SELECT \n",
                "    MIN(release_date) as year_range_start, \n",
                "    MAX(release_date) as year_range_end,\n",
                "    COUNT(DISTINCT(release_date)) num_years,\n",
                "    COUNT(DISTINCT(art.id)) num_artists,\n",
                "    COUNT(DISTINCT(alb.id)) num_albums,\n",
                "    COUNT(DISTINCT(tra.id)) num_tracks\n",
                "FROM\n",
                "    MusicProj..trackz tra\n",
                "    JOIN \n",
                "        MusicProj..keystrings kst\n",
                "        ON tra.[key] = kst.key_num\n",
                "    JOIN\n",
                "        MusicProj..modestring mst\n",
                "        ON tra.mode = mst.mode_num\n",
                "    LEFT JOIN\n",
                "        MusicProj..artists art\n",
                "        ON tra.artists_id = art.id\n",
                "    LEFT JOIN \n",
                "        MusicProj..albums alb\n",
                "        ON tra.album_id = alb.id\n",
                "WHERE \n",
                "    album_type = 'album'"
            ],
            "metadata": {
                "language": "sql",
                "azdata_cell_guid": "79d42a48-79e7-40ee-aaa0-2b7855ff69d8",
                "tags": []
            },
            "outputs": [],
            "execution_count": null
        },
        {
            "cell_type": "markdown",
            "source": [
                "# Analyze"
            ],
            "metadata": {
                "azdata_cell_guid": "a00d9259-cb0a-4326-804d-881e49b252f9"
            },
            "attachments": {}
        },
        {
            "cell_type": "markdown",
            "source": [
                "### **1\\. Calculating Specific Rating Frequency**\n",
                "\n",
                "**(COUNT, GROUP BY)**\n",
                "\n",
                "We can use the COUNT function in conjunction with the GROUP BY clause to determine how often artists and songs are awarded specific rating values. This can tell us how likely or unlikely it is for a song or artist to be rated as a specific value."
            ],
            "metadata": {
                "azdata_cell_guid": "7e8eeae9-62a3-425f-8c18-f1c938b8bad1"
            },
            "attachments": {}
        },
        {
            "cell_type": "code",
            "source": [
                "/* Using COUNT and GROUP BY functions to determine number of artists and songs per their respective ratings */\n",
                "\n",
                "SELECT \n",
                "    popularity song_popularity, \n",
                "    COUNT(popularity) AS songs_with_rating,\n",
                "    artist_popularity,\n",
                "    COUNT(artist_popularity) AS artists_with_rating\n",
                "FROM\n",
                "    MusicProj..trackz tra\n",
                "    JOIN \n",
                "        MusicProj..keystrings kst\n",
                "        ON tra.[key] = kst.key_num\n",
                "    JOIN\n",
                "        MusicProj..modestring mst\n",
                "        ON tra.mode = mst.mode_num\n",
                "    LEFT JOIN\n",
                "        MusicProj..artists art\n",
                "        ON tra.artists_id = art.id\n",
                "    LEFT JOIN \n",
                "        MusicProj..albums alb\n",
                "        ON tra.album_id = alb.id\n",
                "WHERE album_type = 'album'\n",
                "GROUP BY\n",
                "    popularity,\n",
                "    artist_popularity\n",
                "ORDER BY 1 DESC, 3 DESC"
            ],
            "metadata": {
                "language": "sql",
                "azdata_cell_guid": "14b7aa78-0ab3-4b11-b57d-f34c761bd4f7",
                "tags": [
                    "hide_input"
                ]
            },
            "outputs": [],
            "execution_count": null
        },
        {
            "cell_type": "markdown",
            "source": [
                "### **2\\. Segmenting by Popularity**\n",
                "\n",
                "**(CASE, CTE, GROUP BY)**\n",
                "\n",
                "It may be helpful for our analysis to segment artists by popularity. We'll segment artists into 5 different categories based on popularity. These segments will be described as \"very low\", \"low\", \"middle\", \"high\", and \"very high\".\n",
                "\n",
                "We can accomplish this by applying case statements based on artist\\_popularity score within a CTE and grouping the results by the new attribute pop\\_seg.\n",
                "\n",
                "In order to sort the resulting table in a logical format (highest to lowest), we can apply another CASE statement in the ORDER BY clause to assign a numeric rank to each of the string values.\n",
                "\n",
                "We'll do the same for song popularity in the subsequent query."
            ],
            "metadata": {
                "azdata_cell_guid": "a92e368b-be75-4b2f-8c8b-83e97ba0b0ea"
            },
            "attachments": {}
        },
        {
            "cell_type": "code",
            "source": [
                "/* Using CASE and CTE to segment artists by popularity and determine number of artists per segment */\n",
                "\n",
                "WITH \n",
                "    popCTE AS (\n",
                "    SELECT DISTINCT(art.[name]), artist_popularity,\n",
                "        CASE\n",
                "            WHEN artist_popularity BETWEEN 0 AND 20 THEN 'very low'\n",
                "            WHEN artist_popularity BETWEEN 21 AND 40 THEN 'low'\n",
                "            WHEN artist_popularity BETWEEN 41 AND 60 THEN 'middle'\n",
                "            WHEN artist_popularity BETWEEN 61 AND 80 THEN 'high'\n",
                "            ELSE 'very high'\n",
                "        END as artist_pop_seg\n",
                "    FROM\n",
                "        MusicProj..trackz tra\n",
                "        JOIN \n",
                "            MusicProj..keystrings kst\n",
                "            ON tra.[key] = kst.key_num\n",
                "        JOIN\n",
                "            MusicProj..modestring mst\n",
                "            ON tra.mode = mst.mode_num\n",
                "        LEFT JOIN\n",
                "            MusicProj..artists art\n",
                "            ON tra.artists_id = art.id\n",
                "        LEFT JOIN \n",
                "            MusicProj..albums alb\n",
                "            ON tra.album_id = alb.id\n",
                "    WHERE\n",
                "        album_type = 'album'\n",
                ")\n",
                "\n",
                "SELECT artist_pop_seg, COUNT(artist_pop_seg) artists_in_segment\n",
                "FROM popCTE\n",
                "GROUP BY artist_pop_seg\n",
                "ORDER BY \n",
                "    CASE \n",
                "        WHEN artist_pop_seg = 'very low' THEN 5 \n",
                "        WHEN artist_pop_seg = 'low' THEN 4 \n",
                "        WHEN artist_pop_seg = 'middle' THEN 3 \n",
                "        WHEN artist_pop_seg = 'high' THEN 2 \n",
                "        ELSE 1 \n",
                "    END "
            ],
            "metadata": {
                "azdata_cell_guid": "3b92e5c6-e0be-49aa-93db-e02446cfa98e",
                "language": "sql",
                "tags": [
                    "hide_input"
                ]
            },
            "outputs": [],
            "execution_count": null
        },
        {
            "cell_type": "code",
            "source": [
                "/* Running same CASE statement and CTE as above for trackz table */\n",
                "\n",
                "WITH \n",
                "    pop2CTE AS (\n",
                "    SELECT DISTINCT(tra.[name]), popularity,\n",
                "        CASE\n",
                "            WHEN popularity BETWEEN 0 AND 20 THEN 'very low'\n",
                "            WHEN popularity BETWEEN 21 AND 40 THEN 'low'\n",
                "            WHEN popularity BETWEEN 41 AND 60 THEN 'middle'\n",
                "            WHEN popularity BETWEEN 61 AND 80 THEN 'high'\n",
                "            ELSE 'very high'\n",
                "        END as song_pop_seg\n",
                "    FROM\n",
                "        MusicProj..trackz tra\n",
                "        JOIN \n",
                "            MusicProj..keystrings kst\n",
                "            ON tra.[key] = kst.key_num\n",
                "        JOIN\n",
                "            MusicProj..modestring mst\n",
                "            ON tra.mode = mst.mode_num\n",
                "        LEFT JOIN\n",
                "            MusicProj..artists art\n",
                "            ON tra.artists_id = art.id\n",
                "        LEFT JOIN \n",
                "            MusicProj..albums alb\n",
                "            ON tra.album_id = alb.id\n",
                "    WHERE\n",
                "        album_type = 'album'\n",
                ")\n",
                "\n",
                "SELECT song_pop_seg, COUNT(song_pop_seg) songs_in_segment\n",
                "FROM pop2CTE\n",
                "GROUP BY song_pop_seg\n",
                "ORDER BY \n",
                "    CASE \n",
                "        WHEN song_pop_seg = 'very low' THEN 5 \n",
                "        WHEN song_pop_seg = 'low' THEN 4 \n",
                "        WHEN song_pop_seg = 'middle' THEN 3 \n",
                "        WHEN song_pop_seg = 'high' THEN 2 \n",
                "        ELSE 1 \n",
                "    END"
            ],
            "metadata": {
                "azdata_cell_guid": "8197bfa4-9ca4-43bc-9509-f9104a7f5f42",
                "language": "sql",
                "tags": [
                    "hide_input"
                ]
            },
            "outputs": [],
            "execution_count": null
        },
        {
            "cell_type": "markdown",
            "source": [
                "### **3.1 Determining Commonality of Keys/Modes**\n",
                "\n",
                "The most and least frequently used keys are calculated using a CTE containing the CONCAT function for key name which was then used to run a COUNT operation to determine number of records per key. \n",
                "\n",
                "From this query, we determine that the most commonly used key is Cmaj while the least common key for a song in our sample is Ebmin."
            ],
            "metadata": {
                "azdata_cell_guid": "f6b26687-75c8-4a9d-8230-793d039745bc"
            },
            "attachments": {}
        },
        {
            "cell_type": "code",
            "source": [
                "/* Creating CTE to determine most and least common keys */\n",
                "\n",
                "WITH \n",
                "    MusicCTE AS (\n",
                "SELECT\n",
                "    tra.name song_name,\n",
                "    tra.popularity song_pop,\n",
                "    art.name artist_name,\n",
                "    artist_popularity,\n",
                "    followers,\n",
                "    tempo,\n",
                "    kst.key_let,\n",
                "    mst.mode_let,\n",
                "    CONCAT(kst.key_let, mst.mode_let) AS full_key,\n",
                "    duration_ms,\n",
                "    acousticness,\n",
                "    danceability,\n",
                "    energy,\n",
                "    liveness,\n",
                "    loudness,\n",
                "    speechiness,\n",
                "    valence,\n",
                "    alb.name album_name,\n",
                "    release_date,\n",
                "    album_type\n",
                "\n",
                "FROM\n",
                "    MusicProj..trackz tra\n",
                "    JOIN \n",
                "        MusicProj..keystrings kst\n",
                "        ON tra.[key] = kst.key_num\n",
                "    JOIN\n",
                "        MusicProj..modestring mst\n",
                "        ON tra.mode = mst.mode_num\n",
                "    LEFT JOIN\n",
                "        MusicProj..artists art\n",
                "        ON tra.artists_id = art.id\n",
                "    LEFT JOIN \n",
                "        MusicProj..albums alb\n",
                "        ON tra.album_id = alb.id\n",
                "WHERE\n",
                "    album_type = 'album'\n",
                ")\n",
                "\n",
                "-- Determining most common key for songs (CMaj is most common, Ebmin is least common)\n",
                "\n",
                "SELECT \n",
                "    full_key, \n",
                "    COUNT(full_key) as songs_per_full_key\n",
                "FROM \n",
                "    MusicCTE\n",
                "GROUP BY \n",
                "    full_key\n",
                "ORDER BY \n",
                "    COUNT(full_key) DESC"
            ],
            "metadata": {
                "azdata_cell_guid": "0b6a212b-3eb4-4618-8c69-da78493234b1",
                "language": "sql",
                "tags": [
                    "hide_input"
                ]
            },
            "outputs": [],
            "execution_count": null
        },
        {
            "cell_type": "markdown",
            "source": [
                "### **3.2 Commonalities of Key/Mode cont'd**\n",
                "\n",
                "**(COUNT, GROUP BY, ORDER BY)**\n",
                "\n",
                "We'll do the same as above for individual alphabetic keys and again for individual mode. This time, since we won't be using a the CONCAT function, we can run our query without a CTE."
            ],
            "metadata": {
                "azdata_cell_guid": "4bdece6c-2768-4ecb-b2ef-e4f65e24f87d"
            },
            "attachments": {}
        },
        {
            "cell_type": "code",
            "source": [
                "/* Using COUNT function to determine songs per individual alphabetic key */\n",
                "\n",
                "SELECT\n",
                "    key_let,\n",
                "    COUNT(key_let) as songs_per_key\n",
                "FROM\n",
                "    MusicProj..trackz tra\n",
                "    JOIN \n",
                "        MusicProj..keystrings kst\n",
                "        ON tra.[key] = kst.key_num\n",
                "    JOIN\n",
                "        MusicProj..modestring mst\n",
                "        ON tra.mode = mst.mode_num\n",
                "    LEFT JOIN\n",
                "        MusicProj..artists art\n",
                "        ON tra.artists_id = art.id\n",
                "    LEFT JOIN \n",
                "        MusicProj..albums alb\n",
                "        ON tra.album_id = alb.id\n",
                "WHERE\n",
                "    album_type = 'album'\n",
                "GROUP BY\n",
                "    key_let\n",
                "ORDER BY songs_per_key DESC\n",
                ""
            ],
            "metadata": {
                "language": "sql",
                "azdata_cell_guid": "3364702e-4187-4194-a79e-8776cd920f2d",
                "tags": [
                    "hide_input"
                ]
            },
            "outputs": [],
            "execution_count": null
        },
        {
            "cell_type": "code",
            "source": [
                "-- Using same query as above to determine songs per mode\n",
                "\n",
                "SELECT\n",
                "    mode_let,\n",
                "    COUNT(mode_let) as songs_per_mode\n",
                "FROM\n",
                "    MusicProj..trackz tra\n",
                "    JOIN \n",
                "        MusicProj..keystrings kst\n",
                "        ON tra.[key] = kst.key_num\n",
                "    JOIN\n",
                "        MusicProj..modestring mst\n",
                "        ON tra.mode = mst.mode_num\n",
                "    LEFT JOIN\n",
                "        MusicProj..artists art\n",
                "        ON tra.artists_id = art.id\n",
                "    LEFT JOIN \n",
                "        MusicProj..albums alb\n",
                "        ON tra.album_id = alb.id\n",
                "WHERE\n",
                "    album_type = 'album'\n",
                "GROUP BY\n",
                "    mode_let\n",
                "ORDER BY songs_per_mode DESC"
            ],
            "metadata": {
                "language": "sql",
                "azdata_cell_guid": "06f0dda7-c22d-4473-85ba-5fe7f9c1eec0",
                "tags": [
                    "hide_input"
                ]
            },
            "outputs": [],
            "execution_count": null
        },
        {
            "cell_type": "markdown",
            "source": [
                "### **4\\. Calculating AVG Song Popularity**\n",
                "\n",
                "**(AVG)**\n",
                "\n",
                "Average track popularity was calculated using AVG function as a benchmark for individual track popularity."
            ],
            "metadata": {
                "language": "sql",
                "azdata_cell_guid": "1692c82a-26a9-4c5d-a396-d1582b41b89a"
            },
            "attachments": {}
        },
        {
            "cell_type": "code",
            "source": [
                "/* Using AVG to find average track popularity score */\n",
                "\n",
                "SELECT \n",
                "    AVG(tra.popularity) as avg_track_pop\n",
                "FROM\n",
                "    MusicProj..trackz tra\n",
                "    LEFT JOIN \n",
                "        MusicProj..artists art\n",
                "        ON tra.artists_id = art.id\n",
                "    LEFT JOIN \n",
                "        MusicProj..albums alb\n",
                "        ON tra.album_id = alb.id\n",
                "WHERE\n",
                "    album_type = 'album'"
            ],
            "metadata": {
                "azdata_cell_guid": "1df87d9c-9205-4153-92f8-1588706698a9",
                "language": "sql",
                "tags": [
                    "hide_input"
                ]
            },
            "outputs": [],
            "execution_count": null
        },
        {
            "cell_type": "markdown",
            "source": [
                "### **5\\. Finding Each Artist's Average Song Popularity**\n",
                "\n",
                "**(AVG)**\n",
                "\n",
                "  \n",
                "\n",
                "Next, we'll use the AVG function and GROUP BY clause to determine each artist's average song popularity score."
            ],
            "metadata": {
                "azdata_cell_guid": "8617f4b2-ac22-41b0-9c50-260b5fa6d0bd"
            },
            "attachments": {}
        },
        {
            "cell_type": "code",
            "source": [
                "/* Using AVG function to determine average song popularity score by artist */\n",
                "\n",
                "SELECT art.name, AVG(popularity) as avg_song_pop\n",
                "FROM\n",
                "    MusicProj..trackz tra\n",
                "    JOIN \n",
                "        MusicProj..keystrings kst\n",
                "        ON tra.[key] = kst.key_num\n",
                "    JOIN\n",
                "        MusicProj..modestring mst\n",
                "        ON tra.mode = mst.mode_num\n",
                "    LEFT JOIN\n",
                "        MusicProj..artists art\n",
                "        ON tra.artists_id = art.id\n",
                "    LEFT JOIN \n",
                "        MusicProj..albums alb\n",
                "        ON tra.album_id = alb.id\n",
                "WHERE album_type = 'album'\n",
                "GROUP BY art.name\n",
                "ORDER BY avg_song_pop desc"
            ],
            "metadata": {
                "azdata_cell_guid": "77ff0000-2b82-40e0-bdd2-acc5fa8e247e",
                "language": "sql",
                "tags": [
                    "hide_input"
                ]
            },
            "outputs": [],
            "execution_count": null
        },
        {
            "cell_type": "markdown",
            "source": [
                "### **6\\. Comparing Artist's Average Song Popularity to Total Average**\n",
                "\n",
                "**(CAST, CTE)**\n",
                "\n",
                "Table including total average song and artist popularity as well as each artist's deviation from total artist popularity average is saved as view for importing to Tableau.\n",
                "\n",
                "Additionally, values were cast as decimals to give clearer view of numbers."
            ],
            "metadata": {
                "azdata_cell_guid": "b3b588cf-ad42-4897-b9fb-d6fd6861a476"
            },
            "attachments": {}
        },
        {
            "cell_type": "code",
            "source": [
                "/* Using CTE and CAST to determine how individual artist popularity and song popularity compares to respective averages */\n",
                "\n",
                "--Creating CTE including avg popularity calculations and combined key/mode attributes\n",
                "\n",
                "USE MusicProj\n",
                "\n",
                "GO\n",
                "\n",
                "CREATE VIEW ArtistPopularity as\n",
                "\n",
                "WITH \n",
                "    SpotifyCTE (\n",
                "    song_name,\n",
                "    song_pop,\n",
                "    avg_song_popularity,\n",
                "    artist_name,\n",
                "    artist_popularity,\n",
                "    avg_artist_popularity,\n",
                "    followers,\n",
                "    tempo,\n",
                "    full_key,\n",
                "    duration_ms,\n",
                "    acousticness,\n",
                "    danceability,\n",
                "    energy,\n",
                "    liveness,\n",
                "    loudness,\n",
                "    speechiness,\n",
                "    valence,\n",
                "    album_name,\n",
                "    release_date,\n",
                "    album_type\n",
                "    )\n",
                "AS\n",
                "(\n",
                "SELECT\n",
                "    tra.name song_name,\n",
                "    tra.popularity song_pop,\n",
                "    AVG(popularity) OVER (\n",
                "        PARTITION BY album_type) \n",
                "        AS avg_song_popularity,\n",
                "    art.name artist_name,\n",
                "    artist_popularity,\n",
                "    AVG(artist_popularity) OVER (\n",
                "        PARTITION BY album_type) \n",
                "        AS avg_artist_popularity,\n",
                "    followers,\n",
                "    tempo,\n",
                "    CONCAT(\n",
                "        kst.key_let, \n",
                "        mst.mode_let\n",
                "        ) AS full_key,\n",
                "    duration_ms,\n",
                "    acousticness,\n",
                "    danceability,\n",
                "    energy,\n",
                "    liveness,\n",
                "    loudness,\n",
                "    speechiness,\n",
                "    valence,\n",
                "    alb.name album_name,\n",
                "    release_date,\n",
                "    album_type\n",
                "\n",
                "FROM\n",
                "    MusicProj..trackz tra\n",
                "    JOIN \n",
                "        MusicProj..keystrings kst\n",
                "        ON tra.[key] = kst.key_num\n",
                "    JOIN\n",
                "        MusicProj..modestring mst\n",
                "        ON tra.mode = mst.mode_num\n",
                "    LEFT JOIN\n",
                "        MusicProj..artists art\n",
                "        ON tra.artists_id = art.id\n",
                "    LEFT JOIN \n",
                "        MusicProj..albums alb\n",
                "        ON tra.album_id = alb.id\n",
                "WHERE\n",
                "    album_type = 'album'\n",
                ")\n",
                "\n",
                "-- Determining artist popularity deviation from average \n",
                "\n",
                "SELECT \n",
                "    artist_name, \n",
                "    artist_popularity, \n",
                "    avg_artist_popularity,\n",
                "    (cast(artist_popularity as decimal)-cast(avg_artist_popularity as decimal)) as art_dev\n",
                "FROM \n",
                "    SpotifyCTE\n",
                "GROUP BY \n",
                "    artist_name, artist_popularity, avg_artist_popularity\n",
                ""
            ],
            "metadata": {
                "azdata_cell_guid": "ff4abf42-e814-48fb-8d0b-d3690d31f2cf",
                "language": "sql",
                "tags": [
                    "hide_input"
                ]
            },
            "outputs": [],
            "execution_count": null
        },
        {
            "cell_type": "markdown",
            "source": [
                "# Share"
            ],
            "metadata": {
                "azdata_cell_guid": "eec8606e-508d-4894-8776-88b7d3f85811"
            },
            "attachments": {}
        },
        {
            "cell_type": "markdown",
            "source": [
                "## 1\\. Saving Tables in Views\n",
                "\n",
                "We'll be creating our visualizations for this data in Tableau. In order to export/import from Azure Data Studio into Tableau more easily, we'll save several tables as views to use in our visualizations."
            ],
            "metadata": {
                "azdata_cell_guid": "0e0cc56c-efbd-4393-8089-fd3eadf97880"
            },
            "attachments": {}
        },
        {
            "cell_type": "code",
            "source": [
                "/* Saving table as View */\n",
                "\n",
                "USE MusicProj\n",
                "\n",
                "GO\n",
                "\n",
                "CREATE VIEW dbo.FullTrackTable as\n",
                "SELECT\n",
                "    tra.name song_name,\n",
                "    tra.popularity song_pop,\n",
                "    AVG(popularity) OVER (\n",
                "        PARTITION BY album_type) \n",
                "        AS avg_song_popularity,\n",
                "    art.name artist_name,\n",
                "    artist_popularity,\n",
                "    AVG(artist_popularity) OVER (\n",
                "        PARTITION BY album_type) \n",
                "        AS avg_artist_popularity,\n",
                "    followers,\n",
                "    tempo,\n",
                "    CONCAT(\n",
                "        kst.key_let, \n",
                "        mst.mode_let\n",
                "        ) AS full_key,\n",
                "    duration_ms,\n",
                "    acousticness,\n",
                "    danceability,\n",
                "    energy,\n",
                "    liveness,\n",
                "    loudness,\n",
                "    speechiness,\n",
                "    valence,\n",
                "    alb.name album_name,\n",
                "    release_date,\n",
                "    album_type\n",
                "\n",
                "FROM\n",
                "    MusicProj..trackz tra\n",
                "    JOIN \n",
                "        MusicProj..keystrings kst\n",
                "        ON tra.[key] = kst.key_num\n",
                "    JOIN\n",
                "        MusicProj..modestring mst\n",
                "        ON tra.mode = mst.mode_num\n",
                "    LEFT JOIN\n",
                "        MusicProj..artists art\n",
                "        ON tra.artists_id = art.id\n",
                "    LEFT JOIN \n",
                "        MusicProj..albums alb\n",
                "        ON tra.album_id = alb.id\n",
                "WHERE\n",
                "    album_type = 'album'\n",
                ""
            ],
            "metadata": {
                "azdata_cell_guid": "ba96daff-1321-4310-a892-e6b534f782b4",
                "language": "sql",
                "tags": [
                    "hide_input"
                ]
            },
            "outputs": [],
            "execution_count": null
        },
        {
            "cell_type": "code",
            "source": [
                "/* Saving previous KeyCommonality query as view */\n",
                "\n",
                "USE MusicProj\n",
                "\n",
                "GO\n",
                "\n",
                "CREATE VIEW dbo.KeyCommon as\n",
                "\n",
                "WITH keyCTE (\n",
                "    full_key\n",
                ")\n",
                "AS\n",
                "(\n",
                "SELECT\n",
                "    CONCAT(kst.key_let, mst.mode_let) AS full_key\n",
                "FROM\n",
                "    MusicProj..trackz tra\n",
                "    JOIN \n",
                "        MusicProj..keystrings kst\n",
                "        ON tra.[key] = kst.key_num\n",
                "    JOIN\n",
                "        MusicProj..modestring mst\n",
                "        ON tra.mode = mst.mode_num\n",
                "    LEFT JOIN\n",
                "        MusicProj..artists art\n",
                "        ON tra.artists_id = art.id\n",
                "    LEFT JOIN \n",
                "        MusicProj..albums alb\n",
                "        ON tra.album_id = alb.id\n",
                "WHERE\n",
                "    album_type = 'album'\n",
                ")\n",
                "\n",
                "SELECT full_key, COUNT(full_key) as key_count\n",
                "FROM keyCTE\n",
                "GROUP BY full_key"
            ],
            "metadata": {
                "azdata_cell_guid": "c98d98ca-5576-4bcc-a3dc-f8d47800df9e",
                "language": "sql",
                "tags": [
                    "hide_input"
                ]
            },
            "outputs": [],
            "execution_count": null
        },
        {
            "cell_type": "code",
            "source": [
                "USE MusicProj\n",
                "\n",
                "GO\n",
                "\n",
                "CREATE VIEW dbo.SongSegment2 as\n",
                "\n",
                "WITH \n",
                "    pop21CTE AS (\n",
                "    SELECT DISTINCT(tra.[name]) track_name, art.[name] artist_name, alb.[name] album_name, artist_popularity, duration_ms, key_let, mode_let, danceability, tempo, energy, followers, liveness, loudness, release_date, speechiness, valence, popularity,\n",
                "        CASE\n",
                "            WHEN popularity BETWEEN 0 AND 20 THEN 'very low'\n",
                "            WHEN popularity BETWEEN 21 AND 40 THEN 'low'\n",
                "            WHEN popularity BETWEEN 41 AND 60 THEN 'middle'\n",
                "            WHEN popularity BETWEEN 61 AND 80 THEN 'high'\n",
                "            WHEN popularity BETWEEN 81 AND 100 THEN 'very high'\n",
                "        END as song_pop_seg\n",
                "    FROM\n",
                "        MusicProj..trackz tra\n",
                "        JOIN \n",
                "            MusicProj..keystrings kst\n",
                "            ON tra.[key] = kst.key_num\n",
                "        JOIN\n",
                "            MusicProj..modestring mst\n",
                "            ON tra.mode = mst.mode_num\n",
                "        LEFT JOIN\n",
                "            MusicProj..artists art\n",
                "            ON tra.artists_id = art.id\n",
                "        LEFT JOIN \n",
                "            MusicProj..albums alb\n",
                "            ON tra.album_id = alb.id\n",
                "    WHERE\n",
                "        album_type = 'album'\n",
                ")\n",
                "\n",
                "SELECT track_name, artist_name, album_name, popularity, artist_popularity, key_let, mode_let, duration_ms, danceability, tempo, energy, followers, liveness, loudness, release_date, speechiness, valence, song_pop_seg\n",
                "FROM pop21CTE\n",
                "GROUP BY track_name, artist_name, album_name, song_pop_seg, popularity, artist_popularity, key_let, mode_let, duration_ms, danceability, tempo, energy, followers, liveness, loudness, release_date, speechiness, valence\n",
                "/*ORDER BY \n",
                "    CASE \n",
                "        WHEN song_pop_seg = 'very low' THEN 5 \n",
                "        WHEN song_pop_seg = 'low' THEN 4 \n",
                "        WHEN song_pop_seg = 'middle' THEN 3 \n",
                "        WHEN song_pop_seg = 'high' THEN 2 \n",
                "        ELSE 1 \n",
                "    END*/"
            ],
            "metadata": {
                "azdata_cell_guid": "a0f50ba7-3887-4a93-b323-e732a4e954af",
                "language": "sql",
                "tags": [
                    "hide_input"
                ]
            },
            "outputs": [],
            "execution_count": null
        },
        {
            "cell_type": "code",
            "source": [
                "USE MusicProj\n",
                "\n",
                "GO\n",
                "\n",
                "CREATE VIEW dbo.SongAttributes as\n",
                "\n",
                "SELECT\n",
                "    tra.name song_name,\n",
                "    tra.popularity song_pop,\n",
                "    art.name artist_name,\n",
                "    artist_popularity,\n",
                "    followers,\n",
                "    tempo,\n",
                "    kst.key_let, \n",
                "    mst.mode_let,\n",
                "    duration_ms,\n",
                "    acousticness,\n",
                "    danceability,\n",
                "    energy,\n",
                "    liveness,\n",
                "    loudness,\n",
                "    speechiness,\n",
                "    valence,\n",
                "    alb.name album_name,\n",
                "    release_date,\n",
                "    album_type\n",
                "\n",
                "FROM\n",
                "    MusicProj..trackz tra\n",
                "    JOIN \n",
                "        MusicProj..keystrings kst\n",
                "        ON tra.[key] = kst.key_num\n",
                "    JOIN\n",
                "        MusicProj..modestring mst\n",
                "        ON tra.mode = mst.mode_num\n",
                "    LEFT JOIN\n",
                "        MusicProj..artists art\n",
                "        ON tra.artists_id = art.id\n",
                "    LEFT JOIN \n",
                "        MusicProj..albums alb\n",
                "        ON tra.album_id = alb.id\n",
                "WHERE\n",
                "    album_type = 'album'\n",
                ""
            ],
            "metadata": {
                "language": "sql",
                "azdata_cell_guid": "beb5310d-8898-4c84-a519-d1180dc5a08c",
                "tags": [
                    "hide_input"
                ]
            },
            "outputs": [],
            "execution_count": null
        },
        {
            "cell_type": "code",
            "source": [
                "/* Creating view for SongPopularity deviation table */\n",
                "\n",
                "USE MusicProj\n",
                "\n",
                "GO\n",
                "\n",
                "CREATE VIEW SongPopularity as\n",
                "\n",
                "WITH \n",
                "    SpotifyCTE (\n",
                "    song_name,\n",
                "    song_pop,\n",
                "    avg_song_popularity,\n",
                "    artist_name,\n",
                "    artist_popularity,\n",
                "    avg_artist_popularity,\n",
                "    followers,\n",
                "    tempo,\n",
                "    full_key,\n",
                "    duration_ms,\n",
                "    acousticness,\n",
                "    danceability,\n",
                "    energy,\n",
                "    liveness,\n",
                "    loudness,\n",
                "    speechiness,\n",
                "    valence,\n",
                "    album_name,\n",
                "    release_date,\n",
                "    album_type\n",
                "    )\n",
                "AS\n",
                "(\n",
                "SELECT\n",
                "    tra.name song_name,\n",
                "    tra.popularity song_pop,\n",
                "    AVG(popularity) OVER (\n",
                "        PARTITION BY album_type) \n",
                "        AS avg_song_popularity,\n",
                "    art.name artist_name,\n",
                "    artist_popularity,\n",
                "    AVG(artist_popularity) OVER (\n",
                "        PARTITION BY album_type) \n",
                "        AS avg_artist_popularity,\n",
                "    followers,\n",
                "    tempo,\n",
                "    CONCAT(\n",
                "        kst.key_let, \n",
                "        mst.mode_let\n",
                "        ) AS full_key,\n",
                "    duration_ms,\n",
                "    acousticness,\n",
                "    danceability,\n",
                "    energy,\n",
                "    liveness,\n",
                "    loudness,\n",
                "    speechiness,\n",
                "    valence,\n",
                "    alb.name album_name,\n",
                "    release_date,\n",
                "    album_type\n",
                "\n",
                "FROM\n",
                "    MusicProj..trackz tra\n",
                "    JOIN \n",
                "        MusicProj..keystrings kst\n",
                "        ON tra.[key] = kst.key_num\n",
                "    JOIN\n",
                "        MusicProj..modestring mst\n",
                "        ON tra.mode = mst.mode_num\n",
                "    LEFT JOIN\n",
                "        MusicProj..artists art\n",
                "        ON tra.artists_id = art.id\n",
                "    LEFT JOIN \n",
                "        MusicProj..albums alb\n",
                "        ON tra.album_id = alb.id\n",
                "WHERE\n",
                "    album_type = 'album'\n",
                ")\n",
                "\n",
                "-- Determining song popularity deviation from average\n",
                "\n",
                "SELECT \n",
                "    song_name, \n",
                "    artist_name, \n",
                "    song_pop,\n",
                "    avg_song_popularity,\n",
                "    (cast(song_pop as decimal)-cast(avg_song_popularity as decimal)) as song_dev\n",
                "FROM \n",
                "    SpotifyCTE\n",
                "GROUP BY \n",
                "    song_name, artist_name, song_pop, avg_song_popularity"
            ],
            "metadata": {
                "language": "sql",
                "azdata_cell_guid": "10f9a234-9066-4449-b80e-24ce5897ca76",
                "tags": [
                    "hide_input"
                ]
            },
            "outputs": [],
            "execution_count": null
        }
    ]
}